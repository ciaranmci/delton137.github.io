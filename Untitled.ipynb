{
 "cells": [
  {
   "cell_type": "code",
   "execution_count": 70,
   "id": "c65a3d9b",
   "metadata": {},
   "outputs": [
    {
     "name": "stdout",
     "output_type": "stream",
     "text": [
      "_posts/2015-11-12-a-physicists-visualization-of-bayes-theorem.md\n"
     ]
    }
   ],
   "source": [
    "import html, re, glob\n",
    "\n",
    "posts = glob.glob(\"_posts/*.md\")\n",
    "\n",
    "for p in posts:\n",
    "    f = open(p, 'r')\n",
    "\n",
    "    raw = f.read()\n",
    "    \n",
    "    if (\"QuickLaTeX\" in raw):\n",
    "        print(p)\n",
    "        \n",
    "\n",
    "\n"
   ]
  },
  {
   "cell_type": "code",
   "execution_count": 71,
   "id": "2e8b2531",
   "metadata": {},
   "outputs": [],
   "source": [
    "f = open(\"_posts/2015-11-12-a-physicists-visualization-of-bayes-theorem.md\", 'r')\n",
    "\n",
    "\n",
    "lines = f.readlines()\n",
    "\n",
    "newlines = []\n",
    "\n",
    "for l in lines: \n",
    "    l2 = re.sub(\"<img src=\\\"http://www.moreisdifferent.com/wp-content/ql-cache/.*alt=\\\"\", \"$$\", l)\n",
    "    l2 = re.sub(\"title=\\\"Rendered by QuickLaTeX.com\\\" .*\\\" />\", \"$$\", l2)\n",
    "    l2 = l2.replace(\"\\\" $$\", \"$$\")\n",
    "    l2 = html.unescape(l2)\n",
    "    newlines += [l2]\n",
    "\n",
    "\n",
    "    "
   ]
  },
  {
   "cell_type": "code",
   "execution_count": 73,
   "id": "54154f31",
   "metadata": {},
   "outputs": [],
   "source": [
    "with open(\"_posts/2015-11-12-a-physicists-visualization-of-bayes-theorem.md\", 'w') as f2:\n",
    "    f2.writelines(newlines)\n"
   ]
  },
  {
   "cell_type": "code",
   "execution_count": 10,
   "id": "b03d7291",
   "metadata": {},
   "outputs": [
    {
     "data": {
      "text/plain": [
       "'asdfsdf  D_1'"
      ]
     },
     "execution_count": 10,
     "metadata": {},
     "output_type": "execute_result"
    }
   ],
   "source": [
    "\n"
   ]
  },
  {
   "cell_type": "code",
   "execution_count": 5,
   "id": "51ea3007",
   "metadata": {},
   "outputs": [
    {
     "ename": "LookupError",
     "evalue": "unknown encoding: xmlcharrefreplace",
     "output_type": "error",
     "traceback": [
      "\u001b[0;31m---------------------------------------------------------------------------\u001b[0m",
      "\u001b[0;31mLookupError\u001b[0m                               Traceback (most recent call last)",
      "\u001b[0;32m/tmp/ipykernel_22494/3513256738.py\u001b[0m in \u001b[0;36m<module>\u001b[0;34m\u001b[0m\n\u001b[0;32m----> 1\u001b[0;31m \u001b[0mtest\u001b[0m\u001b[0;34m.\u001b[0m\u001b[0mencode\u001b[0m\u001b[0;34m(\u001b[0m\u001b[0;34m'xmlcharrefreplace'\u001b[0m\u001b[0;34m,\u001b[0m \u001b[0;34m'ascii'\u001b[0m\u001b[0;34m)\u001b[0m\u001b[0;34m\u001b[0m\u001b[0;34m\u001b[0m\u001b[0m\n\u001b[0m",
      "\u001b[0;31mLookupError\u001b[0m: unknown encoding: xmlcharrefreplace"
     ]
    }
   ],
   "source": [
    "test.encode('xmlcharrefreplace', 'ascii')"
   ]
  },
  {
   "cell_type": "code",
   "execution_count": null,
   "id": "47e856fe",
   "metadata": {},
   "outputs": [],
   "source": []
  }
 ],
 "metadata": {
  "kernelspec": {
   "display_name": "Python 3",
   "language": "python",
   "name": "python3"
  },
  "language_info": {
   "codemirror_mode": {
    "name": "ipython",
    "version": 3
   },
   "file_extension": ".py",
   "mimetype": "text/x-python",
   "name": "python",
   "nbconvert_exporter": "python",
   "pygments_lexer": "ipython3",
   "version": "3.8.6"
  }
 },
 "nbformat": 4,
 "nbformat_minor": 5
}
